{
 "cells": [
  {
   "cell_type": "markdown",
   "metadata": {
    "editable": true
   },
   "source": [
    "# Project Title\n",
    "### Data Engineering Capstone Project\n",
    "\n",
    "#### Project Summary\n",
    "--describe your project at a high level--\n",
    "\n",
    "The project follows the follow steps:\n",
    "* Step 1: Scope the Project and Gather Data\n",
    "* Step 2: Explore and Assess the Data\n",
    "* Step 3: Define the Data Model\n",
    "* Step 4: Run ETL to Model the Data\n",
    "* Step 5: Complete Project Write Up"
   ]
  },
  {
   "cell_type": "code",
   "execution_count": 4,
   "metadata": {
    "editable": true
   },
   "outputs": [
    {
     "name": "stdout",
     "output_type": "stream",
     "text": [
      "{'1': 'Business', '2': 'Pleasure', '3': 'Student'}\n"
     ]
    },
    {
     "data": {
      "text/html": [
       "<div>\n",
       "<style scoped>\n",
       "    .dataframe tbody tr th:only-of-type {\n",
       "        vertical-align: middle;\n",
       "    }\n",
       "\n",
       "    .dataframe tbody tr th {\n",
       "        vertical-align: top;\n",
       "    }\n",
       "\n",
       "    .dataframe thead th {\n",
       "        text-align: right;\n",
       "    }\n",
       "</style>\n",
       "<table border=\"1\" class=\"dataframe\">\n",
       "  <thead>\n",
       "    <tr style=\"text-align: right;\">\n",
       "      <th></th>\n",
       "      <th>country_birth_cd</th>\n",
       "      <th>country_birth</th>\n",
       "    </tr>\n",
       "  </thead>\n",
       "  <tbody>\n",
       "    <tr>\n",
       "      <th>0</th>\n",
       "      <td>1</td>\n",
       "      <td>Business</td>\n",
       "    </tr>\n",
       "    <tr>\n",
       "      <th>1</th>\n",
       "      <td>2</td>\n",
       "      <td>Pleasure</td>\n",
       "    </tr>\n",
       "    <tr>\n",
       "      <th>2</th>\n",
       "      <td>3</td>\n",
       "      <td>Student</td>\n",
       "    </tr>\n",
       "  </tbody>\n",
       "</table>\n",
       "</div>"
      ],
      "text/plain": [
       "  country_birth_cd country_birth\n",
       "0                1      Business\n",
       "1                2      Pleasure\n",
       "2                3       Student"
      ]
     },
     "execution_count": 4,
     "metadata": {},
     "output_type": "execute_result"
    }
   ],
   "source": [
    "import pandas as pd\n",
    "with open('./I94_SAS_Labels_Descriptions.SAS') as f:\n",
    "        f_content = f.read()\n",
    "        f_content = f_content.replace('\\t', '')\n",
    "def code_mapper(file, idx):\n",
    "        \"\"\"From udacity knowledge base.\n",
    "        Sources lookup values from the SAS file. \"\"\"       \n",
    "        f_content2 = f_content[f_content.index(idx):]\n",
    "        f_content2 = f_content2[:f_content2.index(';')].split('\\n')\n",
    "        f_content2 = [i.replace(\"'\", \"\") for i in f_content2]\n",
    "        dic = [i.split('=') for i in f_content2[1:]]\n",
    "        dic = dict([i[0].strip(), i[1].strip()] for i in dic if len(i) == 2)\n",
    "        print(dic)\n",
    "        return dic\n",
    "def creating_df_from_data_dictionary(lookup_column, col_name):\n",
    "    result = code_mapper(f_content, lookup_column)\n",
    "    df = pd.DataFrame.from_dict(result, orient='index', columns=[col_name])\n",
    "    df = df.reset_index()\n",
    "    df.columns = ['{}_cd'.format(col_name), col_name]\n",
    "    return df\n",
    "df = creating_df_from_data_dictionary(\"I94VISA\", \"country_birth\")  \n",
    "#df = creating_df_from_data_dictionary(\"i94prtl\", \"local_airline\")\n",
    "#df = creating_df_from_data_dictionary(\"i94addrl\", \"state\")\n",
    "df"
   ]
  },
  {
   "cell_type": "code",
   "execution_count": 7,
   "metadata": {
    "editable": true
   },
   "outputs": [],
   "source": [
    "# Do all imports and installs here\n",
    "import pandas as pd\n",
    "import re"
   ]
  },
  {
   "cell_type": "markdown",
   "metadata": {
    "editable": true
   },
   "source": [
    "def regex_lev(x):\n",
    "    code= x.split('-')[1]\n",
    "    return code \n",
    "airport = pd.read_csv('airport-codes_csv.csv')\n",
    "airport.head()\n",
    "m = airport[airport['iso_country'] == \"US\"][['iso_country','iso_region','local_code','iata_code']]\n",
    "m['iso_region'] = m['iso_region'].apply(lambda x: regex_lev(x))\n",
    "#l = m.groupby(['iso_country','iso_region']).count()\n",
    "m[ ~m['iata_code'].isnull()].shape\n",
    "m"
   ]
  },
  {
   "cell_type": "code",
   "execution_count": 2,
   "metadata": {
    "editable": true
   },
   "outputs": [],
   "source": [
    "import pandas as pd"
   ]
  },
  {
   "cell_type": "code",
   "execution_count": 35,
   "metadata": {
    "editable": true
   },
   "outputs": [
    {
     "data": {
      "text/plain": [
       "(596, 2)"
      ]
     },
     "execution_count": 35,
     "metadata": {},
     "output_type": "execute_result"
    }
   ],
   "source": [
    "airport = pd.read_csv('us-cities-demographics.csv',delimiter=';')\n",
    "airport.columns\n",
    "#airport['Race'].value_counts()\n",
    "m = airport[['City', 'State', 'Median Age', 'Male Population', 'Female Population','Total Population', 'Number of Veterans', 'Foreign-born', 'Average Household Size', 'State Code']]\n",
    "m.drop_duplicates().shape\n",
    "airport[['City','State Code']].drop_duplicates().shape\n",
    "#airport[airport['City']=='Columbus']\n",
    "#\n",
    "#airport[(airport['City']=='Abilene') & (airport['State']=='Texas')]"
   ]
  },
  {
   "cell_type": "code",
   "execution_count": 9,
   "metadata": {
    "editable": true
   },
   "outputs": [
    {
     "data": {
      "text/plain": [
       "Index(['Unnamed: 0', 'cicid', 'i94yr', 'i94mon', 'i94cit', 'i94res', 'i94port',\n",
       "       'arrdate', 'i94mode', 'i94addr', 'depdate', 'i94bir', 'i94visa',\n",
       "       'count', 'dtadfile', 'visapost', 'occup', 'entdepa', 'entdepd',\n",
       "       'entdepu', 'matflag', 'biryear', 'dtaddto', 'gender', 'insnum',\n",
       "       'airline', 'admnum', 'fltno', 'visatype'],\n",
       "      dtype='object')"
      ]
     },
     "execution_count": 9,
     "metadata": {},
     "output_type": "execute_result"
    }
   ],
   "source": [
    "immigration = pd.read_csv('immigration_data_sample.csv')\n",
    "immigration.head()\n",
    "immigration.columns"
   ]
  },
  {
   "cell_type": "code",
   "execution_count": 23,
   "metadata": {
    "editable": true
   },
   "outputs": [
    {
     "data": {
      "text/html": [
       "<div>\n",
       "<style scoped>\n",
       "    .dataframe tbody tr th:only-of-type {\n",
       "        vertical-align: middle;\n",
       "    }\n",
       "\n",
       "    .dataframe tbody tr th {\n",
       "        vertical-align: top;\n",
       "    }\n",
       "\n",
       "    .dataframe thead th {\n",
       "        text-align: right;\n",
       "    }\n",
       "</style>\n",
       "<table border=\"1\" class=\"dataframe\">\n",
       "  <thead>\n",
       "    <tr style=\"text-align: right;\">\n",
       "      <th></th>\n",
       "      <th>Unnamed: 0</th>\n",
       "      <th>cicid</th>\n",
       "      <th>i94yr</th>\n",
       "      <th>i94mon</th>\n",
       "      <th>i94cit</th>\n",
       "      <th>i94res</th>\n",
       "      <th>i94port</th>\n",
       "      <th>arrdate</th>\n",
       "      <th>i94mode</th>\n",
       "      <th>i94addr</th>\n",
       "      <th>...</th>\n",
       "      <th>entdepu</th>\n",
       "      <th>matflag</th>\n",
       "      <th>biryear</th>\n",
       "      <th>dtaddto</th>\n",
       "      <th>gender</th>\n",
       "      <th>insnum</th>\n",
       "      <th>airline</th>\n",
       "      <th>admnum</th>\n",
       "      <th>fltno</th>\n",
       "      <th>visatype</th>\n",
       "    </tr>\n",
       "  </thead>\n",
       "  <tbody>\n",
       "    <tr>\n",
       "      <th>271</th>\n",
       "      <td>2163396</td>\n",
       "      <td>4348794.0</td>\n",
       "      <td>2016.0</td>\n",
       "      <td>4.0</td>\n",
       "      <td>525.0</td>\n",
       "      <td>525.0</td>\n",
       "      <td>X96</td>\n",
       "      <td>20567.0</td>\n",
       "      <td>2.0</td>\n",
       "      <td>VQ</td>\n",
       "      <td>...</td>\n",
       "      <td>NaN</td>\n",
       "      <td>M</td>\n",
       "      <td>1968.0</td>\n",
       "      <td>10222016</td>\n",
       "      <td>F</td>\n",
       "      <td>NaN</td>\n",
       "      <td>VES</td>\n",
       "      <td>9.435467e+10</td>\n",
       "      <td>MANAD</td>\n",
       "      <td>B2</td>\n",
       "    </tr>\n",
       "  </tbody>\n",
       "</table>\n",
       "<p>1 rows × 29 columns</p>\n",
       "</div>"
      ],
      "text/plain": [
       "     Unnamed: 0      cicid   i94yr  i94mon  i94cit  i94res i94port  arrdate  \\\n",
       "271     2163396  4348794.0  2016.0     4.0   525.0   525.0     X96  20567.0   \n",
       "\n",
       "     i94mode i94addr    ...     entdepu  matflag  biryear   dtaddto  gender  \\\n",
       "271      2.0      VQ    ...         NaN        M   1968.0  10222016       F   \n",
       "\n",
       "    insnum airline        admnum  fltno  visatype  \n",
       "271    NaN     VES  9.435467e+10  MANAD        B2  \n",
       "\n",
       "[1 rows x 29 columns]"
      ]
     },
     "execution_count": 23,
     "metadata": {},
     "output_type": "execute_result"
    }
   ],
   "source": [
    "immigration['i94port'].value_counts()\n",
    "m = immigration.loc[immigration['i94port'] =='X96']\n",
    "m.head()"
   ]
  },
  {
   "cell_type": "code",
   "execution_count": 8,
   "metadata": {
    "editable": true
   },
   "outputs": [
    {
     "name": "stdout",
     "output_type": "stream",
     "text": [
      "Index(['dt', 'AverageTemperature', 'AverageTemperatureUncertainty', 'City',\n",
      "       'Country', 'Latitude', 'Longitude'],\n",
      "      dtype='object')\n",
      "<bound method NDFrame.head of                  dt  AverageTemperature  AverageTemperatureUncertainty  \\\n",
      "0        1743-11-01               6.068                          1.737   \n",
      "1        1743-12-01                 NaN                            NaN   \n",
      "2        1744-01-01                 NaN                            NaN   \n",
      "3        1744-02-01                 NaN                            NaN   \n",
      "4        1744-03-01                 NaN                            NaN   \n",
      "5        1744-04-01               5.788                          3.624   \n",
      "6        1744-05-01              10.644                          1.283   \n",
      "7        1744-06-01              14.051                          1.347   \n",
      "8        1744-07-01              16.082                          1.396   \n",
      "9        1744-08-01                 NaN                            NaN   \n",
      "10       1744-09-01              12.781                          1.454   \n",
      "11       1744-10-01               7.950                          1.630   \n",
      "12       1744-11-01               4.639                          1.302   \n",
      "13       1744-12-01               0.122                          1.756   \n",
      "14       1745-01-01              -1.333                          1.642   \n",
      "15       1745-02-01              -2.732                          1.358   \n",
      "16       1745-03-01               0.129                          1.088   \n",
      "17       1745-04-01               4.042                          1.138   \n",
      "18       1745-05-01                 NaN                            NaN   \n",
      "19       1745-06-01                 NaN                            NaN   \n",
      "20       1745-07-01                 NaN                            NaN   \n",
      "21       1745-08-01                 NaN                            NaN   \n",
      "22       1745-09-01                 NaN                            NaN   \n",
      "23       1745-10-01                 NaN                            NaN   \n",
      "24       1745-11-01                 NaN                            NaN   \n",
      "25       1745-12-01                 NaN                            NaN   \n",
      "26       1746-01-01                 NaN                            NaN   \n",
      "27       1746-02-01                 NaN                            NaN   \n",
      "28       1746-03-01                 NaN                            NaN   \n",
      "29       1746-04-01                 NaN                            NaN   \n",
      "...             ...                 ...                            ...   \n",
      "8599182  2011-04-01              12.554                          0.153   \n",
      "8599183  2011-05-01              14.066                          0.149   \n",
      "8599184  2011-06-01              16.273                          0.267   \n",
      "8599185  2011-07-01              16.020                          0.179   \n",
      "8599186  2011-08-01              16.975                          0.139   \n",
      "8599187  2011-09-01              15.788                          0.109   \n",
      "8599188  2011-10-01              11.337                          0.221   \n",
      "8599189  2011-11-01               6.990                          0.097   \n",
      "8599190  2011-12-01               5.722                          0.261   \n",
      "8599191  2012-01-01               4.348                          0.293   \n",
      "8599192  2012-02-01               0.376                          0.290   \n",
      "8599193  2012-03-01               7.863                          0.135   \n",
      "8599194  2012-04-01               8.101                          0.168   \n",
      "8599195  2012-05-01              14.169                          0.191   \n",
      "8599196  2012-06-01              14.702                          0.342   \n",
      "8599197  2012-07-01              17.329                          0.287   \n",
      "8599198  2012-08-01              18.588                          0.224   \n",
      "8599199  2012-09-01              14.333                          0.207   \n",
      "8599200  2012-10-01              10.358                          0.208   \n",
      "8599201  2012-11-01               6.469                          0.189   \n",
      "8599202  2012-12-01               4.303                          0.341   \n",
      "8599203  2013-01-01               1.479                          0.217   \n",
      "8599204  2013-02-01               1.559                          0.304   \n",
      "8599205  2013-03-01               2.253                          0.267   \n",
      "8599206  2013-04-01               7.710                          0.182   \n",
      "8599207  2013-05-01              11.464                          0.236   \n",
      "8599208  2013-06-01              15.043                          0.261   \n",
      "8599209  2013-07-01              18.775                          0.193   \n",
      "8599210  2013-08-01              18.025                          0.298   \n",
      "8599211  2013-09-01                 NaN                            NaN   \n",
      "\n",
      "           City      Country Latitude Longitude  \n",
      "0         Århus      Denmark   57.05N    10.33E  \n",
      "1         Århus      Denmark   57.05N    10.33E  \n",
      "2         Århus      Denmark   57.05N    10.33E  \n",
      "3         Århus      Denmark   57.05N    10.33E  \n",
      "4         Århus      Denmark   57.05N    10.33E  \n",
      "5         Århus      Denmark   57.05N    10.33E  \n",
      "6         Århus      Denmark   57.05N    10.33E  \n",
      "7         Århus      Denmark   57.05N    10.33E  \n",
      "8         Århus      Denmark   57.05N    10.33E  \n",
      "9         Århus      Denmark   57.05N    10.33E  \n",
      "10        Århus      Denmark   57.05N    10.33E  \n",
      "11        Århus      Denmark   57.05N    10.33E  \n",
      "12        Århus      Denmark   57.05N    10.33E  \n",
      "13        Århus      Denmark   57.05N    10.33E  \n",
      "14        Århus      Denmark   57.05N    10.33E  \n",
      "15        Århus      Denmark   57.05N    10.33E  \n",
      "16        Århus      Denmark   57.05N    10.33E  \n",
      "17        Århus      Denmark   57.05N    10.33E  \n",
      "18        Århus      Denmark   57.05N    10.33E  \n",
      "19        Århus      Denmark   57.05N    10.33E  \n",
      "20        Århus      Denmark   57.05N    10.33E  \n",
      "21        Århus      Denmark   57.05N    10.33E  \n",
      "22        Århus      Denmark   57.05N    10.33E  \n",
      "23        Århus      Denmark   57.05N    10.33E  \n",
      "24        Århus      Denmark   57.05N    10.33E  \n",
      "25        Århus      Denmark   57.05N    10.33E  \n",
      "26        Århus      Denmark   57.05N    10.33E  \n",
      "27        Århus      Denmark   57.05N    10.33E  \n",
      "28        Århus      Denmark   57.05N    10.33E  \n",
      "29        Århus      Denmark   57.05N    10.33E  \n",
      "...         ...          ...      ...       ...  \n",
      "8599182  Zwolle  Netherlands   52.24N     5.26E  \n",
      "8599183  Zwolle  Netherlands   52.24N     5.26E  \n",
      "8599184  Zwolle  Netherlands   52.24N     5.26E  \n",
      "8599185  Zwolle  Netherlands   52.24N     5.26E  \n",
      "8599186  Zwolle  Netherlands   52.24N     5.26E  \n",
      "8599187  Zwolle  Netherlands   52.24N     5.26E  \n",
      "8599188  Zwolle  Netherlands   52.24N     5.26E  \n",
      "8599189  Zwolle  Netherlands   52.24N     5.26E  \n",
      "8599190  Zwolle  Netherlands   52.24N     5.26E  \n",
      "8599191  Zwolle  Netherlands   52.24N     5.26E  \n",
      "8599192  Zwolle  Netherlands   52.24N     5.26E  \n",
      "8599193  Zwolle  Netherlands   52.24N     5.26E  \n",
      "8599194  Zwolle  Netherlands   52.24N     5.26E  \n",
      "8599195  Zwolle  Netherlands   52.24N     5.26E  \n",
      "8599196  Zwolle  Netherlands   52.24N     5.26E  \n",
      "8599197  Zwolle  Netherlands   52.24N     5.26E  \n",
      "8599198  Zwolle  Netherlands   52.24N     5.26E  \n",
      "8599199  Zwolle  Netherlands   52.24N     5.26E  \n",
      "8599200  Zwolle  Netherlands   52.24N     5.26E  \n",
      "8599201  Zwolle  Netherlands   52.24N     5.26E  \n",
      "8599202  Zwolle  Netherlands   52.24N     5.26E  \n",
      "8599203  Zwolle  Netherlands   52.24N     5.26E  \n",
      "8599204  Zwolle  Netherlands   52.24N     5.26E  \n",
      "8599205  Zwolle  Netherlands   52.24N     5.26E  \n",
      "8599206  Zwolle  Netherlands   52.24N     5.26E  \n",
      "8599207  Zwolle  Netherlands   52.24N     5.26E  \n",
      "8599208  Zwolle  Netherlands   52.24N     5.26E  \n",
      "8599209  Zwolle  Netherlands   52.24N     5.26E  \n",
      "8599210  Zwolle  Netherlands   52.24N     5.26E  \n",
      "8599211  Zwolle  Netherlands   52.24N     5.26E  \n",
      "\n",
      "[8599212 rows x 7 columns]>\n"
     ]
    }
   ],
   "source": [
    "fname = '../../data2/GlobalLandTemperaturesByCity.csv'\n",
    "df = pd.read_csv(fname)\n",
    "print(df.columns)\n",
    "print(df.head)"
   ]
  },
  {
   "cell_type": "markdown",
   "metadata": {
    "editable": true
   },
   "source": [
    "### Step 1: Scope the Project and Gather Data\n",
    "\n",
    "#### Scope \n",
    "Explain what you plan to do in the project in more detail. What data do you use? What is your end solution look like? What tools did you use? etc>\n",
    "\n",
    "#### Describe and Gather Data \n",
    "Describe the data sets you're using. Where did it come from? What type of information is included? "
   ]
  },
  {
   "cell_type": "code",
   "execution_count": 1,
   "metadata": {
    "editable": true
   },
   "outputs": [
    {
     "name": "stdout",
     "output_type": "stream",
     "text": [
      "(3096313, 28)\n"
     ]
    },
    {
     "ename": "AttributeError",
     "evalue": "'DataFrame' object has no attribute 'value_counts'",
     "output_type": "error",
     "traceback": [
      "\u001b[0;31m---------------------------------------------------------------------------\u001b[0m",
      "\u001b[0;31mAttributeError\u001b[0m                            Traceback (most recent call last)",
      "\u001b[0;32m<ipython-input-1-6a1ef07d07fe>\u001b[0m in \u001b[0;36m<module>\u001b[0;34m()\u001b[0m\n\u001b[1;32m      4\u001b[0m \u001b[0mdf\u001b[0m \u001b[0;34m=\u001b[0m \u001b[0mpd\u001b[0m\u001b[0;34m.\u001b[0m\u001b[0mread_sas\u001b[0m\u001b[0;34m(\u001b[0m\u001b[0mfname\u001b[0m\u001b[0;34m,\u001b[0m \u001b[0;34m'sas7bdat'\u001b[0m\u001b[0;34m,\u001b[0m \u001b[0mencoding\u001b[0m\u001b[0;34m=\u001b[0m\u001b[0;34m\"ISO-8859-1\"\u001b[0m\u001b[0;34m)\u001b[0m\u001b[0;34m\u001b[0m\u001b[0m\n\u001b[1;32m      5\u001b[0m \u001b[0mprint\u001b[0m\u001b[0;34m(\u001b[0m\u001b[0mdf\u001b[0m\u001b[0;34m.\u001b[0m\u001b[0mshape\u001b[0m\u001b[0;34m)\u001b[0m\u001b[0;34m\u001b[0m\u001b[0m\n\u001b[0;32m----> 6\u001b[0;31m \u001b[0mprint\u001b[0m\u001b[0;34m(\u001b[0m\u001b[0mdf\u001b[0m\u001b[0;34m[\u001b[0m\u001b[0;34m[\u001b[0m\u001b[0;34m'depdate'\u001b[0m\u001b[0;34m,\u001b[0m\u001b[0;34m'arrdate'\u001b[0m\u001b[0;34m]\u001b[0m\u001b[0;34m]\u001b[0m\u001b[0;34m.\u001b[0m\u001b[0mvalue_counts\u001b[0m\u001b[0;34m(\u001b[0m\u001b[0;34m)\u001b[0m\u001b[0;34m)\u001b[0m\u001b[0;34m\u001b[0m\u001b[0m\n\u001b[0m",
      "\u001b[0;32m/opt/conda/lib/python3.6/site-packages/pandas/core/generic.py\u001b[0m in \u001b[0;36m__getattr__\u001b[0;34m(self, name)\u001b[0m\n\u001b[1;32m   4374\u001b[0m             \u001b[0;32mif\u001b[0m \u001b[0mself\u001b[0m\u001b[0;34m.\u001b[0m\u001b[0m_info_axis\u001b[0m\u001b[0;34m.\u001b[0m\u001b[0m_can_hold_identifiers_and_holds_name\u001b[0m\u001b[0;34m(\u001b[0m\u001b[0mname\u001b[0m\u001b[0;34m)\u001b[0m\u001b[0;34m:\u001b[0m\u001b[0;34m\u001b[0m\u001b[0m\n\u001b[1;32m   4375\u001b[0m                 \u001b[0;32mreturn\u001b[0m \u001b[0mself\u001b[0m\u001b[0;34m[\u001b[0m\u001b[0mname\u001b[0m\u001b[0;34m]\u001b[0m\u001b[0;34m\u001b[0m\u001b[0m\n\u001b[0;32m-> 4376\u001b[0;31m             \u001b[0;32mreturn\u001b[0m \u001b[0mobject\u001b[0m\u001b[0;34m.\u001b[0m\u001b[0m__getattribute__\u001b[0m\u001b[0;34m(\u001b[0m\u001b[0mself\u001b[0m\u001b[0;34m,\u001b[0m \u001b[0mname\u001b[0m\u001b[0;34m)\u001b[0m\u001b[0;34m\u001b[0m\u001b[0m\n\u001b[0m\u001b[1;32m   4377\u001b[0m \u001b[0;34m\u001b[0m\u001b[0m\n\u001b[1;32m   4378\u001b[0m     \u001b[0;32mdef\u001b[0m \u001b[0m__setattr__\u001b[0m\u001b[0;34m(\u001b[0m\u001b[0mself\u001b[0m\u001b[0;34m,\u001b[0m \u001b[0mname\u001b[0m\u001b[0;34m,\u001b[0m \u001b[0mvalue\u001b[0m\u001b[0;34m)\u001b[0m\u001b[0;34m:\u001b[0m\u001b[0;34m\u001b[0m\u001b[0m\n",
      "\u001b[0;31mAttributeError\u001b[0m: 'DataFrame' object has no attribute 'value_counts'"
     ]
    }
   ],
   "source": [
    "# Read in the data here\n",
    "import pandas as pd\n",
    "fname = '../../data/18-83510-I94-Data-2016/i94_apr16_sub.sas7bdat'\n",
    "df = pd.read_sas(fname, 'sas7bdat', encoding=\"ISO-8859-1\")\n",
    "print(df.shape)\n",
    "#print(df[['depdate','arrdate']].value_counts())"
   ]
  },
  {
   "cell_type": "code",
   "execution_count": 2,
   "metadata": {
    "editable": true
   },
   "outputs": [
    {
     "name": "stdout",
     "output_type": "stream",
     "text": [
      "(3096313,)\n"
     ]
    }
   ],
   "source": [
    "print(df['cicid'].drop_duplicates().shape)\n",
    "#print(df['depdate'].value_counts())\n",
    "#print(df['arrdate'].value_counts())\n",
    "#print(df.columns)"
   ]
  },
  {
   "cell_type": "code",
   "execution_count": 8,
   "metadata": {
    "editable": true
   },
   "outputs": [],
   "source": [
    "\n",
    "from pyspark.sql import SparkSession\n",
    "spark = SparkSession.builder.\\\n",
    "config(\"spark.jars.packages\",\"saurfang:spark-sas7bdat:2.0.0-s_2.11\")\\\n",
    ".enableHiveSupport().getOrCreate()\n",
    "df_spark =spark.read.format('com.github.saurfang.sas.spark').load('../../data/18-83510-I94-Data-2016/i94_apr16_sub.sas7bdat')\n"
   ]
  },
  {
   "cell_type": "code",
   "execution_count": 11,
   "metadata": {
    "editable": true
   },
   "outputs": [],
   "source": [
    "#write to parquet\n",
    "df_spark.write.parquet(\"sas_data\")\n",
    "df_spark=spark.read.parquet(\"sas_data\")"
   ]
  },
  {
   "cell_type": "markdown",
   "metadata": {
    "editable": true
   },
   "source": [
    "### Step 2: Explore and Assess the Data\n",
    "#### Explore the Data \n",
    "Identify data quality issues, like missing values, duplicate data, etc.\n",
    "\n",
    "#### Cleaning Steps\n",
    "Document steps necessary to clean the data"
   ]
  },
  {
   "cell_type": "code",
   "execution_count": null,
   "metadata": {
    "editable": true
   },
   "outputs": [],
   "source": [
    "# Performing cleaning tasks here\n",
    "\n",
    "\n",
    "\n"
   ]
  },
  {
   "cell_type": "markdown",
   "metadata": {
    "editable": true
   },
   "source": [
    "### Step 3: Define the Data Model\n",
    "#### 3.1 Conceptual Data Model\n",
    "Map out the conceptual data model and explain why you chose that model\n",
    "\n",
    "#### 3.2 Mapping Out Data Pipelines\n",
    "List the steps necessary to pipeline the data into the chosen data model"
   ]
  },
  {
   "cell_type": "markdown",
   "metadata": {
    "editable": true
   },
   "source": [
    "### Step 4: Run Pipelines to Model the Data \n",
    "#### 4.1 Create the data model\n",
    "Build the data pipelines to create the data model."
   ]
  },
  {
   "cell_type": "code",
   "execution_count": null,
   "metadata": {
    "editable": true
   },
   "outputs": [],
   "source": [
    "# Write code here"
   ]
  },
  {
   "cell_type": "markdown",
   "metadata": {
    "editable": true
   },
   "source": [
    "#### 4.2 Data Quality Checks\n",
    "Explain the data quality checks you'll perform to ensure the pipeline ran as expected. These could include:\n",
    " * Integrity constraints on the relational database (e.g., unique key, data type, etc.)\n",
    " * Unit tests for the scripts to ensure they are doing the right thing\n",
    " * Source/Count checks to ensure completeness\n",
    " \n",
    "Run Quality Checks"
   ]
  },
  {
   "cell_type": "code",
   "execution_count": null,
   "metadata": {
    "editable": true
   },
   "outputs": [],
   "source": [
    "# Perform quality checks here"
   ]
  },
  {
   "cell_type": "markdown",
   "metadata": {
    "editable": true
   },
   "source": [
    "#### 4.3 Data dictionary \n",
    "Create a data dictionary for your data model. For each field, provide a brief description of what the data is and where it came from. You can include the data dictionary in the notebook or in a separate file."
   ]
  },
  {
   "cell_type": "markdown",
   "metadata": {
    "editable": true
   },
   "source": [
    "#### Step 5: Complete Project Write Up\n",
    "* Clearly state the rationale for the choice of tools and technologies for the project.\n",
    "* Propose how often the data should be updated and why.\n",
    "* Write a description of how you would approach the problem differently under the following scenarios:\n",
    " * The data was increased by 100x.\n",
    " * The data populates a dashboard that must be updated on a daily basis by 7am every day.\n",
    " * The database needed to be accessed by 100+ people."
   ]
  },
  {
   "cell_type": "code",
   "execution_count": null,
   "metadata": {
    "editable": true
   },
   "outputs": [],
   "source": []
  },
  {
   "cell_type": "code",
   "execution_count": null,
   "metadata": {
    "editable": true
   },
   "outputs": [],
   "source": []
  },
  {
   "cell_type": "code",
   "execution_count": null,
   "metadata": {
    "editable": true
   },
   "outputs": [],
   "source": []
  },
  {
   "cell_type": "code",
   "execution_count": null,
   "metadata": {
    "editable": true
   },
   "outputs": [],
   "source": []
  },
  {
   "cell_type": "code",
   "execution_count": null,
   "metadata": {
    "editable": true
   },
   "outputs": [],
   "source": []
  },
  {
   "cell_type": "code",
   "execution_count": null,
   "metadata": {
    "editable": true
   },
   "outputs": [],
   "source": []
  }
 ],
 "metadata": {
  "kernelspec": {
   "display_name": "Python 3",
   "language": "python",
   "name": "python3"
  },
  "language_info": {
   "codemirror_mode": {
    "name": "ipython",
    "version": 3
   },
   "file_extension": ".py",
   "mimetype": "text/x-python",
   "name": "python",
   "nbconvert_exporter": "python",
   "pygments_lexer": "ipython3",
   "version": "3.6.3"
  }
 },
 "nbformat": 4,
 "nbformat_minor": 4
}
